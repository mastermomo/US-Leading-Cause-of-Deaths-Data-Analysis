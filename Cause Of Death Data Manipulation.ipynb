{
 "cells": [
  {
   "cell_type": "code",
   "execution_count": 26,
   "id": "d7622cbd-00e8-45cd-9130-639c223fa39b",
   "metadata": {},
   "outputs": [],
   "source": [
    "import pandas as pd"
   ]
  },
  {
   "cell_type": "code",
   "execution_count": 27,
   "id": "dd7d33da-978e-4427-95f9-b7b7d8415322",
   "metadata": {},
   "outputs": [],
   "source": [
    "COD_file = \"NCHS_-_Leading_Causes_of_Death__United_States.csv\"\n",
    "COD_df = pd.read_csv(COD_file)"
   ]
  },
  {
   "cell_type": "code",
   "execution_count": 28,
   "id": "01d96883-1b36-4f16-ac7d-b912e8457cc2",
   "metadata": {},
   "outputs": [],
   "source": [
    "US_filtered_df = COD_df[COD_df['State'] == 'United States']"
   ]
  },
  {
   "cell_type": "code",
   "execution_count": 29,
   "id": "adc65100-7b3f-434f-92b9-8b5ad9d7def6",
   "metadata": {},
   "outputs": [],
   "source": [
    "state_to_region = {\n",
    "    'Alabama': 'South',\n",
    "    'Alaska': 'West',\n",
    "    'Arizona': 'West',\n",
    "    'Arkansas': 'South',\n",
    "    'California': 'West',\n",
    "    'Colorado': 'West',\n",
    "    'Connecticut': 'Northeast',\n",
    "    'Delaware': 'South',\n",
    "    'Florida': 'South',\n",
    "    'Georgia': 'South',\n",
    "    'Hawaii': 'West',\n",
    "    'Idaho': 'West',\n",
    "    'Illinois': 'Midwest',\n",
    "    'Indiana': 'Midwest',\n",
    "    'Iowa': 'Midwest',\n",
    "    'Kansas': 'Midwest',\n",
    "    'Kentucky': 'South',\n",
    "    'Louisiana': 'South',\n",
    "    'Maine': 'Northeast',\n",
    "    'Maryland': 'South',\n",
    "    'Massachusetts': 'Northeast',\n",
    "    'Michigan': 'Midwest',\n",
    "    'Minnesota': 'Midwest',\n",
    "    'Mississippi': 'South',\n",
    "    'Missouri': 'Midwest',\n",
    "    'Montana': 'West',\n",
    "    'Nebraska': 'Midwest',\n",
    "    'Nevada': 'West',\n",
    "    'New Hampshire': 'Northeast',\n",
    "    'New Jersey': 'Northeast',\n",
    "    'New Mexico': 'West',\n",
    "    'New York': 'Northeast',\n",
    "    'North Carolina': 'South',\n",
    "    'North Dakota': 'Midwest',\n",
    "    'Ohio': 'Midwest',\n",
    "    'Oklahoma': 'South',\n",
    "    'Oregon': 'West',\n",
    "    'Pennsylvania': 'Northeast',\n",
    "    'Rhode Island': 'Northeast',\n",
    "    'South Carolina': 'South',\n",
    "    'South Dakota': 'Midwest',\n",
    "    'Tennessee': 'South',\n",
    "    'Texas': 'South',\n",
    "    'Utah': 'West',\n",
    "    'Vermont': 'Northeast',\n",
    "    'Virginia': 'South',\n",
    "    'Washington': 'West',\n",
    "    'West Virginia': 'South',\n",
    "    'Wisconsin': 'Midwest',\n",
    "    'Wyoming': 'West'\n",
    "}"
   ]
  },
  {
   "cell_type": "code",
   "execution_count": 30,
   "id": "232dd283-823c-4229-806a-b484e70316c5",
   "metadata": {},
   "outputs": [],
   "source": [
    "### TODO\n",
    "### Filter based on region and add to region based excel sheets"
   ]
  },
  {
   "cell_type": "code",
   "execution_count": 35,
   "id": "2329c577-7c80-47fb-a31a-3bec86af1b4c",
   "metadata": {},
   "outputs": [],
   "source": [
    "file_name = 'NCHS Leading Causes of Death for US (1999 - 2017).xlsx'\n",
    "\n",
    "\n",
    "# Create an ExcelWriter object\n",
    "with pd.ExcelWriter(file_name, engine='openpyxl') as writer:\n",
    "    # Export the raw data to the \"Raw Data\" sheet\n",
    "    COD_df.to_excel(writer, sheet_name=\"Raw Data\", index=False)\n",
    "\n",
    "    # Export the filtered data for the US to the \"Total US Based COD\" sheet\n",
    "    US_filtered_df.to_excel(writer, sheet_name=\"Total US Based COD\", index=False)\n"
   ]
  },
  {
   "cell_type": "code",
   "execution_count": null,
   "id": "8ccae941-0151-43e6-aea9-b9b4542c09fb",
   "metadata": {},
   "outputs": [],
   "source": []
  }
 ],
 "metadata": {
  "kernelspec": {
   "display_name": "Python 3 (ipykernel)",
   "language": "python",
   "name": "python3"
  },
  "language_info": {
   "codemirror_mode": {
    "name": "ipython",
    "version": 3
   },
   "file_extension": ".py",
   "mimetype": "text/x-python",
   "name": "python",
   "nbconvert_exporter": "python",
   "pygments_lexer": "ipython3",
   "version": "3.12.0"
  }
 },
 "nbformat": 4,
 "nbformat_minor": 5
}
